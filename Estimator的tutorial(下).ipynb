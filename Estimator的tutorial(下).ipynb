{
 "cells": [
  {
   "cell_type": "markdown",
   "metadata": {},
   "source": [
    "### 创建自定义Estimators\n",
    "这篇tutorial介绍了如何自定义Estimator，特别是，如何保证和我们之前看到的pre-made Estimators具有类似的功能与接口\n",
    "<br>（我们继续用鸢尾花当例子\n",
    "<img src = \"https://gss2.bdstatic.com/9fo3dSag_xI4khGkpoWK1HF6hhy/baike/c0%3Dbaike80%2C5%2C5%2C80%2C26/sign=6e3294171bd8bc3ed2050e98e3e2cd7b/86d6277f9e2f07082a8b0b2deb24b899a901f214.jpg\">"
   ]
  },
  {
   "cell_type": "markdown",
   "metadata": {},
   "source": [
    "### 1.自定义Estimator与Pre-made Estimator的不同\n",
    "如👇图所示，pre-made estimator是tf.estimator.Estimator的子类，但是自定义的Estimator则是示例\n",
    "<img src = \"https://www.tensorflow.org/images/custom_estimators/estimator_types.png?hl=zh-cn\">"
   ]
  },
  {
   "cell_type": "markdown",
   "metadata": {},
   "source": [
    "从操作上来看，唯一区别是，自定义Estimator需要自己写实现算法（是不是和没说一样\n",
    "<br>还是看具体例子好啦, 例如我们想实现鸢尾花的分类问题，那么大概需要建立以下👇这样的模型\n",
    "<img src = \"https://www.tensorflow.org/images/custom_estimators/full_network.png?hl=zh-cn\">"
   ]
  },
  {
   "cell_type": "markdown",
   "metadata": {},
   "source": [
    "### 2.🌰\n",
    "#### 2.1 Input Function\n",
    "我们自定义的Estimator的输入函数采用和之前pre-made Estimator相同的实现"
   ]
  },
  {
   "cell_type": "code",
   "execution_count": 5,
   "metadata": {},
   "outputs": [],
   "source": [
    "import tensorflow as tf\n",
    "import iris_data\n",
    "(train_x, train_y), (test_x, test_y) = iris_data.load_data()"
   ]
  },
  {
   "cell_type": "code",
   "execution_count": 3,
   "metadata": {
    "collapsed": true
   },
   "outputs": [],
   "source": [
    "def train_input_fn(features, labels, batch_size):\n",
    "    \"\"\"An input function for training\"\"\"\n",
    "    # Convert the inputs to a Dataset.\n",
    "    dataset = tf.data.Dataset.from_tensor_slices((dict(features), labels))\n",
    "\n",
    "    # Shuffle, repeat, and batch the examples.\n",
    "    dataset = dataset.shuffle(1000).repeat().batch(batch_size)\n",
    "\n",
    "    # Return the read end of the pipeline.\n",
    "    return dataset.make_one_shot_iterator().get_next()"
   ]
  },
  {
   "cell_type": "markdown",
   "metadata": {},
   "source": [
    "#### 2.2 自定义特征列\n",
    "特征列部分也在<a href = \"\">之前的tutorial</a>中讲过啦"
   ]
  },
  {
   "cell_type": "code",
   "execution_count": 6,
   "metadata": {},
   "outputs": [],
   "source": [
    "# Feature columns describe how to use the input.\n",
    "my_feature_columns = []\n",
    "for key in train_x.keys():\n",
    "    my_feature_columns.append(tf.feature_column.numeric_column(key=key))"
   ]
  },
  {
   "cell_type": "markdown",
   "metadata": {},
   "source": [
    "#### 2.3 写模型函数\n",
    "当定义一个模型函数，我们需要传入从Input function中返回的features以及labels，这些是我们定义的模型直接要用到的数据，mode参数是用来只是我们调用的是何种方法，是train，predict还是evaluate，所以同样的，你需要出这三种模式下所需的计算。\n",
    "#### 总结来说，我们定义一个模型函数，需要做以下工作：\n",
    "* 定义模型\n",
    "* 指定不同模式下的计算\n",
    " * Train\n",
    " * Evaluate\n",
    " * Predict"
   ]
  },
  {
   "cell_type": "markdown",
   "metadata": {},
   "source": [
    "#### 2.3.1 我们先来看一下定义模型\n",
    "一个基本的深度神经网络包括以下三部分：\n",
    "* 一个输入层\n",
    "* 至少一层隐藏层\n",
    "* 一个输出层\n",
    "\n",
    "<BR>\n",
    "* 定义一个输入层,我们可以直接调用tf.feature_column.input_layer方法来将特征字典和特征列转化为模型输入\n",
    "    * net = tf.feature_column.input_layer(features, params['feature_columns'])\n",
    "    <img src = \"https://www.tensorflow.org/images/custom_estimators/input_layer.png?hl=zh-cn\">\n",
    "    \n",
    "<BR>\n",
    "* 关于定义隐藏层，tensorflow提供的layers接口提供了各种方法，可以自行设置卷积，池化等。但对于鸢尾花数据集，由于该数据集比较简单，我们只需要调用简单的全连接层来定义隐藏层(tf.layers.dense),其中每一层的单元数在params['hidden_layers']中定义\n",
    "    * for units in params['hidden_units']:\n",
    "        net = tf.layers.dense(net, units=units, activation=tf.nn.relu)\n",
    "\n",
    " 关于以上代码一点额外说明：在每次迭代建立隐藏层过程中，当前层以上一层作为输入\n",
    "     <img src = \"https://www.tensorflow.org/images/custom_estimators/add_hidden_layer.png?hl=zh-cn\">\n",
    " \n",
    "<BR>\n",
    "* 关于输出层，这里我们继续调用tf.layers.dense来建立输出层，但注意输出层没有激活函数\n",
    "   * logits = tf.layers.dense(net, params['n_classes'], activation=None)\n",
    "   <img src = \"https://www.tensorflow.org/images/custom_estimators/add_logits.png?hl=zh-cn\">"
   ]
  },
  {
   "cell_type": "markdown",
   "metadata": {},
   "source": [
    "#### 2.3.2 实现训练，评估和预测模式\n",
    "我们在定义自己的模型函数时，需要指定这次计算是训练模式，评估模式还是预测模式，那这时候，我们需要在定义自己的模型函数时，出入一个mode参数，来指定本次计算的模式：\n",
    "<br >def my_model_fn( features, labels, mode, params): \n",
    "* 关于mode参数：\n",
    "  当我们想调用train，evaluate或者predict方法时，我们通过特定的mode参数来唤醒这些方法：\n",
    "  * ModeKeys.TRAIN ---> train()\n",
    "  * ModeKeys.EVAL ---> evaluate()\n",
    "  * ModeKeys.PREDICT ---> predict()\n",
    "  "
   ]
  },
  {
   "cell_type": "markdown",
   "metadata": {},
   "source": [
    "#### Calculate the loss\n",
    "在接下来的训练和评估模式下，我们都需要计算模型的损失，也就是需要被优化的对象；我们可以通过调用tf.losses.sparse_softmax_cross_entropy来计算模型损失：\n",
    "* loss = tf.losses.sparse_softmax_cross_entropy(labels=labels, logits=logits)"
   ]
  },
  {
   "cell_type": "markdown",
   "metadata": {},
   "source": [
    "#### Train\n",
    "关于训练模式，当Estimator的train方法被调用时，相应的，模型函数被 mode = ModeKeys.TRAIN 唤醒，在这种情况下，模型函数必须返回一个<a href = \"\">EstimatorSpec</a>，包含计算得到的损失以及训练方法：\n",
    "  建立训练操作需要我们定义优化器，我们通常用tf.train.AdagradOptimizer作为默认优化器（tf.train中也提供了许多其他优化器）\n",
    "  * optimizer = tf.train.AdagradOptimizer(learning_rate=0.1)\n",
    "  \n",
    "<br>接下来，我们用刚刚定义的优化器来最小化模型损失，优化器的最小化方法，带有一个global_step参数，TensorFlow用该参数来计算已经训练的次数（来确定训练何时结束）,除此以外，global_step参数对于TensorBoard图形化模型非常必要，示例代码如下：\n",
    "  * train_op = optimizer.minimize(loss, global_step=tf.train.get_global_step())\n",
    "  \n",
    "<br>返回的EstimatorSpec必须包括以下部分：\n",
    "      * loss: 包含损失函数值\n",
    "      * train_op: 可执行的训练方法\n",
    "      <br>示例代码如下：\n",
    "      * return tf.estimator.EstimatorSpec(mode, loss=loss, train_op=train_op)\n"
   ]
  },
  {
   "cell_type": "markdown",
   "metadata": {},
   "source": [
    "#### Evaluate\n",
    "类似的，当Estimator的评估方法被调用时，model_fn接收到了mode = ModeKeys.EVAL, 在这种情况下，模型函数需要返回一个包含模型损失以及可选择的矩阵。\n",
    "<br>(你可能需要查看<a href = \"\">关于Metric的tutorial</a>)\n",
    "<br>尽管返回矩阵是可选择的，大多数自定义Estimator都至少会返回一个矩阵，TensorFlow提供了矩阵模块，来计算一些常用矩阵，在当前这个例子中，我们默认返回Accuracy矩阵：\n",
    "* accuracy = tf.metrics.accuracy(labels=labels,predictions=predicted_classes, name='acc_op')\n",
    "\n",
    "<BR>\n",
    "在实际编程中，我们可能不仅创建一个矩阵，所以，在返回结果之前，创建一个字典，将我们创建的每个矩阵附到字典中一并返回，示例代码如下：\n",
    "* metrics = {'accuracy': accuracy}\n",
    "\n",
    "最终返回：\n",
    "* return tf.estimator.EstimatorSpec(mode, loss=loss, eval_metric_ops=metrics)\n",
    "此外，为了在TensorBoard中，accuracy在Train及Eval模式下都可以可视化，需要加上：\n",
    "* tf.summary.scalar('accuracy', accuracy[1])\n"
   ]
  },
  {
   "cell_type": "markdown",
   "metadata": {},
   "source": [
    "#### Predict\n",
    "嗯，还是类似的，当Estimator的预测方法被调用，Model_fn将会收到mode = ModeKeys.PREDICT; \n",
    "<br>在调用预测模式之前，该模型必须已经训练。训练后的模型存储在model_dir目录下，在初始化Estimator时被重建。\n",
    "<br>预测模式下，模型范数必须返回相应的预测值, 生成预测值得代码如下：\n",
    "* predicted_classes = tf.argmax(logits, 1)\n",
    "* predictions = {\n",
    "        'class_ids': predicted_classes[:, tf.newaxis],\n",
    "        'probabilities': tf.nn.softmax(logits),\n",
    "        'logits': logits,}\n",
    "<br>predictions字典中包含了我们需要的所有信息：\n",
    "<img src = \"https://www.tensorflow.org/images/custom_estimators/add_predictions.png?hl=zh-cn\">\n",
    "* 我们只需要返回predictions字典即可：\n",
    "    * return tf.estimator.EstimatorSpec(mode, predictions=predictions)"
   ]
  },
  {
   "cell_type": "code",
   "execution_count": 9,
   "metadata": {
    "collapsed": true
   },
   "outputs": [],
   "source": [
    "#以下是刚刚全部内容的整合体\n",
    "def my_model(features, labels, mode, params):\n",
    "    \"\"\"DNN with three hidden layers, and dropout of 0.1 probability.\"\"\"\n",
    "    # Create three fully connected layers each layer having a dropout\n",
    "    # probability of 0.1.\n",
    "    net = tf.feature_column.input_layer(features, params['feature_columns'])\n",
    "    for units in params['hidden_units']:\n",
    "        net = tf.layers.dense(net, units=units, activation=tf.nn.relu)\n",
    "\n",
    "    # Compute logits (1 per class).\n",
    "    logits = tf.layers.dense(net, params['n_classes'], activation=None)\n",
    "\n",
    "    # Compute predictions.\n",
    "    predicted_classes = tf.argmax(logits, 1)\n",
    "    if mode == tf.estimator.ModeKeys.PREDICT:\n",
    "        predictions = {\n",
    "            'class_ids': predicted_classes[:, tf.newaxis],\n",
    "            'probabilities': tf.nn.softmax(logits),\n",
    "            'logits': logits,\n",
    "        }\n",
    "        return tf.estimator.EstimatorSpec(mode, predictions=predictions)\n",
    "\n",
    "    # Compute loss.\n",
    "    loss = tf.losses.sparse_softmax_cross_entropy(labels=labels, logits=logits)\n",
    "\n",
    "    # Compute evaluation metrics.\n",
    "    accuracy = tf.metrics.accuracy(labels=labels,\n",
    "                                   predictions=predicted_classes,\n",
    "                                   name='acc_op')\n",
    "    metrics = {'accuracy': accuracy}\n",
    "    tf.summary.scalar('accuracy', accuracy[1])\n",
    "\n",
    "    if mode == tf.estimator.ModeKeys.EVAL:\n",
    "        return tf.estimator.EstimatorSpec(\n",
    "            mode, loss=loss, eval_metric_ops=metrics)\n",
    "\n",
    "    # Create training op.\n",
    "    assert mode == tf.estimator.ModeKeys.TRAIN\n",
    "\n",
    "    optimizer = tf.train.AdagradOptimizer(learning_rate=0.1)\n",
    "    train_op = optimizer.minimize(loss, global_step=tf.train.get_global_step())\n",
    "    return tf.estimator.EstimatorSpec(mode, loss=loss, train_op=train_op)"
   ]
  },
  {
   "cell_type": "markdown",
   "metadata": {},
   "source": [
    "#### 2.4 初始化模型\n",
    "一些其他的参数，可能需要在建立Estimator中需要用到，这些参数用于设置模型，例如隐藏层的数量，每一层单元的个数，输出层的维度，等等，设置方法与我们之前调用pre-made Estimator时的设置方法类似"
   ]
  },
  {
   "cell_type": "code",
   "execution_count": 22,
   "metadata": {},
   "outputs": [
    {
     "name": "stdout",
     "output_type": "stream",
     "text": [
      "INFO:tensorflow:Using default config.\n",
      "INFO:tensorflow:Using config: {'_model_dir': 'model/iris', '_tf_random_seed': None, '_save_summary_steps': 100, '_save_checkpoints_steps': None, '_save_checkpoints_secs': 600, '_session_config': None, '_keep_checkpoint_max': 5, '_keep_checkpoint_every_n_hours': 10000, '_log_step_count_steps': 100, '_service': None, '_cluster_spec': <tensorflow.python.training.server_lib.ClusterSpec object at 0x11ea03160>, '_task_type': 'worker', '_task_id': 0, '_master': '', '_is_chief': True, '_num_ps_replicas': 0, '_num_worker_replicas': 1}\n"
     ]
    }
   ],
   "source": [
    "classifier = tf.estimator.Estimator(\n",
    "    model_fn=my_model,\n",
    "    params={\n",
    "        'feature_columns': my_feature_columns,\n",
    "        # Two hidden layers of 10 nodes each.\n",
    "        'hidden_units': [10, 10],\n",
    "        # The model must choose between 3 classes.\n",
    "        'n_classes': 3,\n",
    "    },\n",
    "    model_dir = 'model/iris')"
   ]
  },
  {
   "cell_type": "markdown",
   "metadata": {},
   "source": [
    "#### 2.5 训练示例\n",
    "训练，评估，预测等方法，与我们在pre-made Estimator中见到的一样，这里给出简单样例："
   ]
  },
  {
   "cell_type": "code",
   "execution_count": 23,
   "metadata": {},
   "outputs": [
    {
     "name": "stdout",
     "output_type": "stream",
     "text": [
      "INFO:tensorflow:Create CheckpointSaverHook.\n",
      "INFO:tensorflow:Saving checkpoints for 1 into model/iris/model.ckpt.\n",
      "INFO:tensorflow:loss = 1.5508926, step = 1\n",
      "INFO:tensorflow:global_step/sec: 543.564\n",
      "INFO:tensorflow:loss = 0.32071263, step = 101 (0.185 sec)\n",
      "INFO:tensorflow:global_step/sec: 616.435\n",
      "INFO:tensorflow:loss = 0.06946964, step = 201 (0.162 sec)\n",
      "INFO:tensorflow:global_step/sec: 557.824\n",
      "INFO:tensorflow:loss = 0.06918395, step = 301 (0.179 sec)\n",
      "INFO:tensorflow:global_step/sec: 628.35\n",
      "INFO:tensorflow:loss = 0.05326658, step = 401 (0.159 sec)\n",
      "INFO:tensorflow:global_step/sec: 635.684\n",
      "INFO:tensorflow:loss = 0.09533507, step = 501 (0.157 sec)\n",
      "INFO:tensorflow:global_step/sec: 542.89\n",
      "INFO:tensorflow:loss = 0.06499552, step = 601 (0.185 sec)\n",
      "INFO:tensorflow:global_step/sec: 501.439\n",
      "INFO:tensorflow:loss = 0.086014576, step = 701 (0.199 sec)\n",
      "INFO:tensorflow:global_step/sec: 617.628\n",
      "INFO:tensorflow:loss = 0.11016789, step = 801 (0.161 sec)\n",
      "INFO:tensorflow:global_step/sec: 682.361\n",
      "INFO:tensorflow:loss = 0.0517772, step = 901 (0.147 sec)\n",
      "INFO:tensorflow:Saving checkpoints for 1000 into model/iris/model.ckpt.\n",
      "INFO:tensorflow:Loss for final step: 0.052121107.\n"
     ]
    },
    {
     "data": {
      "text/plain": [
       "<tensorflow.python.estimator.estimator.Estimator at 0x11ea032e8>"
      ]
     },
     "execution_count": 23,
     "metadata": {},
     "output_type": "execute_result"
    }
   ],
   "source": [
    "# Train the Model.\n",
    "classifier.train(\n",
    "    input_fn=lambda:iris_data.train_input_fn(train_x, train_y, 100),\n",
    "    steps=1000)"
   ]
  },
  {
   "cell_type": "markdown",
   "metadata": {},
   "source": [
    "#### 以上就是关于Estimator部分的全部内容啦~"
   ]
  },
  {
   "cell_type": "code",
   "execution_count": null,
   "metadata": {
    "collapsed": true
   },
   "outputs": [],
   "source": []
  }
 ],
 "metadata": {
  "kernelspec": {
   "display_name": "Python 3",
   "language": "python",
   "name": "python3"
  },
  "language_info": {
   "codemirror_mode": {
    "name": "ipython",
    "version": 3
   },
   "file_extension": ".py",
   "mimetype": "text/x-python",
   "name": "python",
   "nbconvert_exporter": "python",
   "pygments_lexer": "ipython3",
   "version": "3.6.1"
  }
 },
 "nbformat": 4,
 "nbformat_minor": 2
}
