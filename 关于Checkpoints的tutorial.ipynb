{
 "cells": [
  {
   "cell_type": "markdown",
   "metadata": {},
   "source": [
    "# Checkpoints \n",
    "### 1）啥\n",
    "#### 用来保存训练模型的节点，保存正在训练模型的各个参数\n",
    "### 2）为啥\n",
    "#### 因为跑一个深度学习模型真的要很久啊，动不动几十个小时，假设你已经跑十个小时了，突然断了，那么：\n",
    "#### 有checkpoints ------》捡起参数继续跑\n",
    "#### 没有checkpoints/SaveModel ------》再来十个小时\n",
    "#### 此外，对于需要抢占式使用GPU资源的同学们，在运行模型过程中不断保存参数是非常必要的 -v-\n",
    "## 所以 开始咯"
   ]
  },
  {
   "cell_type": "code",
   "execution_count": 1,
   "metadata": {
    "collapsed": true
   },
   "outputs": [],
   "source": [
    "from __future__ import absolute_import\n",
    "from __future__ import division\n",
    "from __future__ import print_function"
   ]
  },
  {
   "cell_type": "markdown",
   "metadata": {},
   "source": [
    "以上 from _future_ 这部分在<a>第一个tutorial</a>中有提到过。\n",
    "<BR> 这一部分主要侧重于Checkpoints，一些细节可能会略过，抱歉"
   ]
  },
  {
   "cell_type": "code",
   "execution_count": 2,
   "metadata": {
    "collapsed": true
   },
   "outputs": [],
   "source": [
    "import tensorflow as tf\n",
    "import iris_data"
   ]
  },
  {
   "cell_type": "code",
   "execution_count": 3,
   "metadata": {
    "collapsed": true
   },
   "outputs": [],
   "source": [
    "(train_x, train_y), (test_x, test_y) = iris_data.load_data()"
   ]
  },
  {
   "cell_type": "code",
   "execution_count": 4,
   "metadata": {
    "collapsed": true
   },
   "outputs": [],
   "source": [
    "my_feature_columns = []\n",
    "for key in train_x.keys():\n",
    "    my_feature_columns.append(tf.feature_column.numeric_column(key=key))"
   ]
  },
  {
   "cell_type": "code",
   "execution_count": 14,
   "metadata": {},
   "outputs": [
    {
     "name": "stdout",
     "output_type": "stream",
     "text": [
      "INFO:tensorflow:Using default config.\n",
      "INFO:tensorflow:Using config: {'_model_dir': 'lalala/iris', '_tf_random_seed': None, '_save_summary_steps': 100, '_save_checkpoints_steps': None, '_save_checkpoints_secs': 600, '_session_config': None, '_keep_checkpoint_max': 5, '_keep_checkpoint_every_n_hours': 10000, '_log_step_count_steps': 100, '_service': None, '_cluster_spec': <tensorflow.python.training.server_lib.ClusterSpec object at 0x11e3991d0>, '_task_type': 'worker', '_task_id': 0, '_master': '', '_is_chief': True, '_num_ps_replicas': 0, '_num_worker_replicas': 1}\n"
     ]
    }
   ],
   "source": [
    "# Build a DNN with 2 hidden layers and 10 nodes in each hidden layer.\n",
    "classifier = tf.estimator.DNNClassifier(\n",
    "    feature_columns=my_feature_columns,\n",
    "    # Two hidden layers of 10 nodes each.\n",
    "    hidden_units=[10, 10],\n",
    "    # The model must choose between 3 classes.\n",
    "    n_classes=3,\n",
    "    model_dir = 'lalala/iris')"
   ]
  },
  {
   "cell_type": "markdown",
   "metadata": {},
   "source": [
    "# * 注意model_dir，该参数是用来存储Checkpoints的目录"
   ]
  },
  {
   "cell_type": "code",
   "execution_count": 15,
   "metadata": {
    "collapsed": true
   },
   "outputs": [],
   "source": [
    "batch_size = 100\n",
    "train_steps = 1000"
   ]
  },
  {
   "cell_type": "code",
   "execution_count": 16,
   "metadata": {},
   "outputs": [
    {
     "name": "stdout",
     "output_type": "stream",
     "text": [
      "INFO:tensorflow:Create CheckpointSaverHook.\n",
      "INFO:tensorflow:Restoring parameters from lalala/iris/model.ckpt-1000\n",
      "INFO:tensorflow:Saving checkpoints for 1001 into lalala/iris/model.ckpt.\n",
      "INFO:tensorflow:loss = 4.998205, step = 1001\n",
      "INFO:tensorflow:global_step/sec: 454.473\n",
      "INFO:tensorflow:loss = 3.3090506, step = 1101 (0.223 sec)\n",
      "INFO:tensorflow:global_step/sec: 531.457\n",
      "INFO:tensorflow:loss = 3.2085676, step = 1201 (0.187 sec)\n",
      "INFO:tensorflow:global_step/sec: 528.885\n",
      "INFO:tensorflow:loss = 5.372916, step = 1301 (0.189 sec)\n",
      "INFO:tensorflow:global_step/sec: 575.222\n",
      "INFO:tensorflow:loss = 5.0610714, step = 1401 (0.174 sec)\n",
      "INFO:tensorflow:global_step/sec: 552.78\n",
      "INFO:tensorflow:loss = 4.715623, step = 1501 (0.181 sec)\n",
      "INFO:tensorflow:global_step/sec: 469.365\n",
      "INFO:tensorflow:loss = 4.8760653, step = 1601 (0.215 sec)\n",
      "INFO:tensorflow:global_step/sec: 409.088\n",
      "INFO:tensorflow:loss = 2.9384139, step = 1701 (0.243 sec)\n",
      "INFO:tensorflow:global_step/sec: 550.522\n",
      "INFO:tensorflow:loss = 5.4623785, step = 1801 (0.182 sec)\n",
      "INFO:tensorflow:global_step/sec: 445.222\n",
      "INFO:tensorflow:loss = 4.954211, step = 1901 (0.223 sec)\n",
      "INFO:tensorflow:Saving checkpoints for 2000 into lalala/iris/model.ckpt.\n",
      "INFO:tensorflow:Loss for final step: 8.427223.\n"
     ]
    },
    {
     "data": {
      "text/plain": [
       "<tensorflow.python.estimator.canned.dnn.DNNClassifier at 0x11eb88eb8>"
      ]
     },
     "execution_count": 16,
     "metadata": {},
     "output_type": "execute_result"
    }
   ],
   "source": [
    "classifier.train(\n",
    "    input_fn=lambda:iris_data.train_input_fn(train_x, train_y, batch_size),\n",
    "    steps=train_steps)"
   ]
  },
  {
   "cell_type": "markdown",
   "metadata": {},
   "source": [
    "### 以上信息告诉我们Checkpoints的保存位置，及所保存的文件名称\n",
    "Create CheckpointSaverHook ... Restoring parameters from lalala/iris/model.ckpt-1000 ...Saving checkpoints for 1001 into lalala/iris/model.ckpt\n",
    "### 也就是，一旦开始Estimator开始训练，就会自动在硬盘写入如下内容：\n",
    "#### 1）Checkpoints ：包括训练过程模型的各种信息\n",
    "#### 2）Eventfiles：包含后期可以用 <a> TensorBoard </a>可视化的信息"
   ]
  },
  {
   "cell_type": "markdown",
   "metadata": {},
   "source": [
    "就是这样婶儿的\n",
    "<br>\n",
    "<img src=\"https://www.tensorflow.org/images/first_train_calls.png?hl=zh-cn\">"
   ]
  },
  {
   "cell_type": "markdown",
   "metadata": {},
   "source": [
    "### 不过，\n",
    "#### 你也许有注意到，在<a>小白样例</a>中我们并没有在tf.estimator.DNNClassifier()中加入model_dir这个参数\n",
    "#### 就是像下面这样👇"
   ]
  },
  {
   "cell_type": "code",
   "execution_count": 17,
   "metadata": {},
   "outputs": [
    {
     "name": "stdout",
     "output_type": "stream",
     "text": [
      "INFO:tensorflow:Using default config.\n",
      "WARNING:tensorflow:Using temporary folder as model directory: /var/folders/8l/j0ddzz_x75n85vq8tp86dwpr0000gn/T/tmp44v79l2a\n",
      "INFO:tensorflow:Using config: {'_model_dir': '/var/folders/8l/j0ddzz_x75n85vq8tp86dwpr0000gn/T/tmp44v79l2a', '_tf_random_seed': None, '_save_summary_steps': 100, '_save_checkpoints_steps': None, '_save_checkpoints_secs': 600, '_session_config': None, '_keep_checkpoint_max': 5, '_keep_checkpoint_every_n_hours': 10000, '_log_step_count_steps': 100, '_service': None, '_cluster_spec': <tensorflow.python.training.server_lib.ClusterSpec object at 0x11f927b38>, '_task_type': 'worker', '_task_id': 0, '_master': '', '_is_chief': True, '_num_ps_replicas': 0, '_num_worker_replicas': 1}\n"
     ]
    }
   ],
   "source": [
    "# Build a DNN with 2 hidden layers and 10 nodes in each hidden layer.\n",
    "classifier = tf.estimator.DNNClassifier(\n",
    "    feature_columns=my_feature_columns,\n",
    "    # Two hidden layers of 10 nodes each.\n",
    "    hidden_units=[10, 10],\n",
    "    # The model must choose between 3 classes.\n",
    "    n_classes=3)"
   ]
  },
  {
   "cell_type": "markdown",
   "metadata": {},
   "source": [
    "## 那此时Checkpoints存储在哪里呢 (⊙v⊙)"
   ]
  },
  {
   "cell_type": "code",
   "execution_count": 19,
   "metadata": {},
   "outputs": [
    {
     "name": "stdout",
     "output_type": "stream",
     "text": [
      "/var/folders/8l/j0ddzz_x75n85vq8tp86dwpr0000gn/T/tmp44v79l2a\n"
     ]
    }
   ],
   "source": [
    "print(classifier.model_dir)"
   ]
  },
  {
   "cell_type": "markdown",
   "metadata": {},
   "source": [
    "### 就是这里了 👆\n",
    "# -------------------------------------------------------------------------------------------"
   ]
  },
  {
   "cell_type": "markdown",
   "metadata": {},
   "source": [
    "## 关于Checkpoints本身的参数设置\n",
    "### 1）默认情况下的Checkpoints\n",
    "* 每隔十分钟写一次Checkpoints （也就是你最多浪费十分钟再训练时间的意思\n",
    "* 更具体来说，在训练过程中第一次迭代开始后以及最后一次迭代之间写入Checkpoints\n",
    "* 在目录中仅保存五次最近的Checkpoints\n",
    "\n",
    "### 2）假设你对以上默认设置并不满意，你可以：\n",
    "* 创建一个<a>RunConfig</a>对象，定义专属Checkpoints\n",
    "* 当初始化Estimator时，将RunConfig对象传入Estimator的config参数\n",
    "### 例如，我想每秒保存一次Checkpoints，保存最近的10个Checkpoints"
   ]
  },
  {
   "cell_type": "code",
   "execution_count": 23,
   "metadata": {},
   "outputs": [
    {
     "name": "stdout",
     "output_type": "stream",
     "text": [
      "INFO:tensorflow:Using config: {'_model_dir': 'www/iris', '_tf_random_seed': None, '_save_summary_steps': 100, '_save_checkpoints_steps': None, '_save_checkpoints_secs': 1, '_session_config': None, '_keep_checkpoint_max': 10, '_keep_checkpoint_every_n_hours': 10000, '_log_step_count_steps': 100, '_service': None, '_cluster_spec': <tensorflow.python.training.server_lib.ClusterSpec object at 0x11eb4e2e8>, '_task_type': 'worker', '_task_id': 0, '_master': '', '_is_chief': True, '_num_ps_replicas': 0, '_num_worker_replicas': 1}\n"
     ]
    }
   ],
   "source": [
    "my_checkpointing_config = tf.estimator.RunConfig(\n",
    "    save_checkpoints_secs = 1,  # 注意是以秒作为单位哦\n",
    "    keep_checkpoint_max = 10,       # 保存最后十次运行节点\n",
    ")\n",
    "\n",
    "classifier = tf.estimator.DNNClassifier(\n",
    "    feature_columns=my_feature_columns,\n",
    "    hidden_units=[10, 10],\n",
    "    n_classes=3,\n",
    "    model_dir='www/iris',\n",
    "    config=my_checkpointing_config) #嗯是这里的config"
   ]
  },
  {
   "cell_type": "code",
   "execution_count": 24,
   "metadata": {},
   "outputs": [
    {
     "name": "stdout",
     "output_type": "stream",
     "text": [
      "INFO:tensorflow:Create CheckpointSaverHook.\n",
      "INFO:tensorflow:Restoring parameters from www/iris/model.ckpt-1000\n",
      "INFO:tensorflow:Saving checkpoints for 1001 into www/iris/model.ckpt.\n",
      "INFO:tensorflow:loss = 3.0924716, step = 1001\n",
      "INFO:tensorflow:global_step/sec: 425.63\n",
      "INFO:tensorflow:loss = 5.1215634, step = 1101 (0.245 sec)\n",
      "INFO:tensorflow:global_step/sec: 373.101\n",
      "INFO:tensorflow:loss = 5.199152, step = 1201 (0.262 sec)\n",
      "INFO:tensorflow:Saving checkpoints for 1226 into www/iris/model.ckpt.\n",
      "INFO:tensorflow:global_step/sec: 148.014\n",
      "INFO:tensorflow:loss = 4.1368327, step = 1301 (0.674 sec)\n",
      "INFO:tensorflow:global_step/sec: 653.271\n",
      "INFO:tensorflow:loss = 6.0438037, step = 1401 (0.153 sec)\n",
      "INFO:tensorflow:global_step/sec: 516.938\n",
      "INFO:tensorflow:loss = 4.880019, step = 1501 (0.193 sec)\n",
      "INFO:tensorflow:Saving checkpoints for 1520 into www/iris/model.ckpt.\n",
      "INFO:tensorflow:global_step/sec: 140.736\n",
      "INFO:tensorflow:loss = 4.869627, step = 1601 (0.712 sec)\n",
      "INFO:tensorflow:global_step/sec: 518.51\n",
      "INFO:tensorflow:loss = 6.21659, step = 1701 (0.192 sec)\n",
      "INFO:tensorflow:Saving checkpoints for 1785 into www/iris/model.ckpt.\n",
      "INFO:tensorflow:global_step/sec: 150.003\n",
      "INFO:tensorflow:loss = 3.1445913, step = 1801 (0.668 sec)\n",
      "INFO:tensorflow:global_step/sec: 495.981\n",
      "INFO:tensorflow:loss = 4.443218, step = 1901 (0.201 sec)\n",
      "INFO:tensorflow:Saving checkpoints for 2000 into www/iris/model.ckpt.\n",
      "INFO:tensorflow:Loss for final step: 5.19421.\n"
     ]
    },
    {
     "data": {
      "text/plain": [
       "<tensorflow.python.estimator.canned.dnn.DNNClassifier at 0x11f927438>"
      ]
     },
     "execution_count": 24,
     "metadata": {},
     "output_type": "execute_result"
    }
   ],
   "source": [
    "classifier.train(\n",
    "    input_fn=lambda:iris_data.train_input_fn(train_x, train_y, batch_size),\n",
    "    steps=train_steps)"
   ]
  },
  {
   "cell_type": "markdown",
   "metadata": {},
   "source": [
    "### 有没有发现Checkpoints变得多了起来， 哈。\n",
    "# ----------------------------------------------------------------------------------------"
   ]
  },
  {
   "cell_type": "markdown",
   "metadata": {},
   "source": [
    "## 重建模型 \n",
    "（从哪里跌倒 就从哪里爬起来"
   ]
  },
  {
   "cell_type": "markdown",
   "metadata": {},
   "source": [
    "### 每当调用train(),evaluate(),predict()方法时，TensorFlow将自动从Checkpoints中读取信息重建模型\n",
    "#### 就是下面这样的 👇"
   ]
  },
  {
   "cell_type": "markdown",
   "metadata": {},
   "source": [
    "<img src=\"https://www.tensorflow.org/images/subsequent_calls.png?hl=zh-cn\">"
   ]
  },
  {
   "cell_type": "markdown",
   "metadata": {},
   "source": [
    "### 一点点温馨提示\n",
    "### 1）重建的时候记得不要改参数，例如隐藏层数量啦，Checkpoints目录啦\n",
    "### 2）以上仅限于Estimator方法构建的神经网络QAQ"
   ]
  },
  {
   "cell_type": "code",
   "execution_count": null,
   "metadata": {
    "collapsed": true
   },
   "outputs": [],
   "source": []
  }
 ],
 "metadata": {
  "kernelspec": {
   "display_name": "Python 3",
   "language": "python",
   "name": "python3"
  },
  "language_info": {
   "codemirror_mode": {
    "name": "ipython",
    "version": 3
   },
   "file_extension": ".py",
   "mimetype": "text/x-python",
   "name": "python",
   "nbconvert_exporter": "python",
   "pygments_lexer": "ipython3",
   "version": "3.6.1"
  }
 },
 "nbformat": 4,
 "nbformat_minor": 2
}
