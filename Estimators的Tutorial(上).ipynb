{
 "cells": [
  {
   "cell_type": "markdown",
   "metadata": {},
   "source": [
    "### 1.介绍一下Estimator？\n",
    "#### 其实第一个小白样例中，已经给出很多介绍，Estimator是Tensorflow的高层API，简化了机器学习的编程过程（真的是大大简化了），Estimator自动包装了以下功能：\n",
    "* 训练\n",
    "* 评估\n",
    "* 预测\n",
    "* 导出\n",
    "#### 更具体的来说，Estimator有以下优点：\n",
    "* 你可以在本地上、分布式服务器上运行基于Estimator的模型而不需要做改动。除此以外，你可以在CPUs,GPUs,或者TPUs上运行基于Estimators的模型而不需要重写编码。\n",
    "* Estimator简化模型开发者之间的分享接口\n",
    "* Estimator已经为你建立了graph，也就是说，你不需要再自行建立graph\n",
    "* Estimator提供了一个安全的分布式训练循环，控制如何以及何时：\n",
    " * 建立图\n",
    " * 初始化变量\n",
    " * 开始排队\n",
    " * 处理异常\n",
    " * 创建checkpoint文件以及从失败中恢复\n",
    " * 为TensorBoard保存总结"
   ]
  },
  {
   "cell_type": "markdown",
   "metadata": {},
   "source": [
    "### 2.预制Estimator （Pre-made Estimators)\n",
    "如题所示，就是已经做好的接口，不需担心计算图不需担心session，一切都已经内置妥当\n",
    "<BR> 一个基于Pre-made Estimators的TensorFlow程序基本需要以下四个步骤:\n",
    "\n",
    "#### 2.1 写数据集导入函数\n",
    "例如，你可能需要创建一个函数导入训练集，另一个函数导入测试集，每个数据集导入函数至少返回两个对象：\n",
    "* 一个字典(Dictionary): 键值是特征名称，值是包含相应特征数据的Tensor\n",
    "* 一个Tensor：包含一个或多个标签\n",
    "\n",
    "<br> 示例代码如下 👇"
   ]
  },
  {
   "cell_type": "code",
   "execution_count": 4,
   "metadata": {
    "collapsed": true
   },
   "outputs": [],
   "source": [
    "import tensorflow as tf\n",
    "def input_fn(dataset):\n",
    "   \n",
    "   # 这里应该有代码，但是懒得写\n",
    "    \n",
    "    return feature_dict, label"
   ]
  },
  {
   "cell_type": "markdown",
   "metadata": {},
   "source": [
    "#### 2.2 定义特征列\n",
    "每个特征列，指定特征名称，类型以及输入的预处理（例如正则化）"
   ]
  },
  {
   "cell_type": "code",
   "execution_count": null,
   "metadata": {},
   "outputs": [],
   "source": [
    "median_education = tf.feature_column.numeric_column('median_education',\n",
    "                    normalizer_fn='lambda x: x - global_education_mean')"
   ]
  },
  {
   "cell_type": "markdown",
   "metadata": {},
   "source": [
    "#### 2.3 初始化相关Pre-made Estimator\n",
    "一个简单的例子如下 (emmm但是不可以运行)"
   ]
  },
  {
   "cell_type": "code",
   "execution_count": null,
   "metadata": {},
   "outputs": [],
   "source": [
    "# Instantiate an estimator, passing the feature columns.\n",
    "estimator = tf.estimator.Estimator.LinearClassifier(\n",
    "    feature_columns=[population, crime_rate, median_education],\n",
    "    )"
   ]
  },
  {
   "cell_type": "markdown",
   "metadata": {},
   "source": [
    "#### 2.4 调用Estimator的训练，评估或者推断方法\n",
    "emmm还是不可以运行"
   ]
  },
  {
   "cell_type": "code",
   "execution_count": null,
   "metadata": {
    "collapsed": true
   },
   "outputs": [],
   "source": [
    "# my_training_set is the function created in Step 1\n",
    "estimator.train(input_fn=my_training_set, steps=2000)"
   ]
  }
 ],
 "metadata": {
  "kernelspec": {
   "display_name": "Python 3",
   "language": "python",
   "name": "python3"
  },
  "language_info": {
   "codemirror_mode": {
    "name": "ipython",
    "version": 3
   },
   "file_extension": ".py",
   "mimetype": "text/x-python",
   "name": "python",
   "nbconvert_exporter": "python",
   "pygments_lexer": "ipython3",
   "version": "3.6.1"
  }
 },
 "nbformat": 4,
 "nbformat_minor": 2
}
