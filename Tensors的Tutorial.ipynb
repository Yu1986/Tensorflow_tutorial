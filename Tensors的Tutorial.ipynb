{
 "cells": [
  {
   "cell_type": "markdown",
   "metadata": {},
   "source": [
    "## Tensors\n",
    "Tensorflow，就像名字所暗示的那样，是一个定义并运行tensor的架构。\n",
    "<br>一个tensor就是一个泛化的向量或者矩阵，从内部来说，Tensorflow用基本数据类型的多维列表来表示tensor。\n",
    "\n",
    "当写一个Tensorflow程序时，你传递并操作的主要对象就是tf.Tensor.一个Tensor对象定义了部分运算并最终将产生数值。Tensorflow程序首先通过tf.Tensor对象建立Graph，具体来说每一个tensor完成计算都基于Graph中其他tensor的运行并得到结果。\n",
    "\n",
    "一个tensor有以下特性：\n",
    "* 一个数据类型(float32,int32,string etc.)\n",
    "* 形状(shape) \n",
    "\n",
    "Tensor中存储的元素具有相同的数据类型，并且数据类型通常已知。而形状（就是几维以及每一维的大小）或许只有部分可知，如果输入的形状可知的话，大多数操作生成确定形状的tensor，但一些情况下只能在执行的时候知道某个tensor的形状。\n",
    "\n",
    "Tensors主要有以下类型：\n",
    "* tf.Variable\n",
    "* tf.constant\n",
    "* tf.placeholder\n",
    "* tf.SparseTensor\n",
    "除了tf.Variable以外，其他tensor的值都是不变的。然而，评估同一tensor多次，可能返回不同的值：例如从磁盘中读入数据，或者生成随机数字。\n"
   ]
  },
  {
   "cell_type": "markdown",
   "metadata": {},
   "source": [
    "### 1.Rank\n",
    "每一个tensor对象的rank，就是其维度的数量，所以rank的同义词还包括order，degree或者n-dimension.注意Tensor中的rank与数学中矩阵的rank不同，如下图所示，tensorflow中的每一阶在数学概念中都表达了不同实体：\n",
    "* 0 ---> 数值\n",
    "* 1 ---> 向量(数值和方向)\n",
    "* 2 ---> 矩阵\n",
    "* 3 ---> 3-Tensor\n",
    "* n ---> n-Tensor\n",
    "\n",
    "#### 1.1 Rank 0\n",
    "以下给出示例，如何创建rank 0 变量"
   ]
  },
  {
   "cell_type": "code",
   "execution_count": 2,
   "metadata": {},
   "outputs": [],
   "source": [
    "import tensorflow as tf\n",
    "mammal = tf.Variable(\"Elephant\", tf.string)\n",
    "ignition = tf.Variable(451, tf.int16)\n",
    "floating = tf.Variable(3.14159265359, tf.float64)\n",
    "its_complicated = tf.Variable(12.3 - 4.85j, tf.complex64)"
   ]
  },
  {
   "cell_type": "markdown",
   "metadata": {},
   "source": [
    "#### 一个string在tensorflow中被处理为一个单位，而不是一系列的字符，所以可以设置向量string，矩阵string，等等"
   ]
  },
  {
   "cell_type": "markdown",
   "metadata": {},
   "source": [
    "#### 1.2 Rank 1\n",
    "创建rank为1的代码如下："
   ]
  },
  {
   "cell_type": "code",
   "execution_count": 3,
   "metadata": {
    "collapsed": true
   },
   "outputs": [],
   "source": [
    "mystr = tf.Variable([\"Hello\"], tf.string)\n",
    "cool_numbers  = tf.Variable([3.14159, 2.71828], tf.float32)\n",
    "first_primes = tf.Variable([2, 3, 5, 7, 11], tf.int32)\n",
    "its_very_complicated = tf.Variable([12.3 - 4.85j, 7.5 - 6.23j], tf.complex64)"
   ]
  },
  {
   "cell_type": "markdown",
   "metadata": {},
   "source": [
    "#### 1.3 更高的rank\n",
    "一个2阶的tensor至少包含一行一列"
   ]
  },
  {
   "cell_type": "code",
   "execution_count": 8,
   "metadata": {},
   "outputs": [
    {
     "name": "stdout",
     "output_type": "stream",
     "text": [
      "Tensor(\"Rank_3:0\", shape=(), dtype=int32)\n"
     ]
    }
   ],
   "source": [
    "mymat = tf.Variable([[7],[11]], tf.int16)\n",
    "myxor = tf.Variable([[False, True],[True, False]], tf.bool)\n",
    "linear_squares = tf.Variable([[4], [9], [16], [25]], tf.int32)\n",
    "squarish_squares = tf.Variable([ [4, 9], [16, 25] ], tf.int32)\n",
    "rank_of_squares = tf.rank(squarish_squares)\n",
    "mymatC = tf.Variable([[7],[11]], tf.int32)\n",
    "print(rank_of_squares)"
   ]
  },
  {
   "cell_type": "markdown",
   "metadata": {},
   "source": [
    "在处理图像中，我们常用到4阶的rank，例如28*28大小的彩色图片，batch大小设置为10"
   ]
  },
  {
   "cell_type": "code",
   "execution_count": 5,
   "metadata": {
    "collapsed": true
   },
   "outputs": [],
   "source": [
    "my_image = tf.zeros([10, 299, 299, 3])  # batch x height x width x color"
   ]
  },
  {
   "cell_type": "markdown",
   "metadata": {},
   "source": [
    "#### 1.4 tf.rank方法\n",
    "我们可以调用tf.rank方法来获取tensor的rank信息，例如："
   ]
  },
  {
   "cell_type": "code",
   "execution_count": 9,
   "metadata": {},
   "outputs": [
    {
     "data": {
      "text/plain": [
       "<tf.Tensor 'Rank_4:0' shape=() dtype=int32>"
      ]
     },
     "execution_count": 9,
     "metadata": {},
     "output_type": "execute_result"
    }
   ],
   "source": [
    "tf.rank(mammal)"
   ]
  },
  {
   "cell_type": "markdown",
   "metadata": {},
   "source": [
    "### 1.5 tf.Tensor slices\n",
    "因为tf.Tensors是一个n维数组的单元，为了获取每个单元的信息，你需要指定n个索引:\n",
    "* 对于rank为0的tensor来说，索引并不必要，因为已经是单独数字\n",
    "* 对于rank为1的tensor来说，传递一个单独的索引可以获取一个数字"
   ]
  },
  {
   "cell_type": "code",
   "execution_count": 12,
   "metadata": {},
   "outputs": [
    {
     "name": "stdout",
     "output_type": "stream",
     "text": [
      "2\n"
     ]
    }
   ],
   "source": [
    "my_vector = [0,1,2,3]\n",
    "my_scalar = my_vector[2]\n",
    "print(my_scalar)"
   ]
  },
  {
   "cell_type": "markdown",
   "metadata": {},
   "source": [
    "对于更高rank来说，情况会更有趣一些"
   ]
  },
  {
   "cell_type": "code",
   "execution_count": 19,
   "metadata": {},
   "outputs": [
    {
     "data": {
      "text/plain": [
       "[4, 5, 6, 7]"
      ]
     },
     "execution_count": 19,
     "metadata": {},
     "output_type": "execute_result"
    }
   ],
   "source": [
    "my_vector1 = [4,5,6,7]\n",
    "my_matrix = [my_vector,my_vector1]\n",
    "my_row = my_matrix[1]\n",
    "my_row"
   ]
  },
  {
   "cell_type": "markdown",
   "metadata": {},
   "source": [
    "### 2. Shape\n",
    "一个tensor的shape是指每个维度下，元素的个数。Tensorflow在构建计算图时自动推断shape的大小，这些推断而知的shape也许有已知或者未知的rank，就算rank是已知的话，每个维度下的size也许依然是未知的。\n",
    "\n",
    "Tensorflow的官方文档用三个符号来形同tensor的维度信息：rank，shape，dimension number"
   ]
  },
  {
   "cell_type": "markdown",
   "metadata": {},
   "source": [
    "#### 2.1 获取tf.Tensor对象的shape\n",
    "有两种方式来获取tensor的shape。\n",
    "* 1）调用tf.Tensor的shape特性\n",
    "* 2）调用tf.shape方法"
   ]
  },
  {
   "cell_type": "code",
   "execution_count": 25,
   "metadata": {},
   "outputs": [
    {
     "name": "stdout",
     "output_type": "stream",
     "text": [
      "(2, 2)\n",
      "Tensor(\"Shape_1:0\", shape=(2,), dtype=int32)\n"
     ]
    }
   ],
   "source": [
    "print(squarish_squares.shape)\n",
    "print(tf.shape(squarish_squares))"
   ]
  },
  {
   "cell_type": "code",
   "execution_count": 26,
   "metadata": {},
   "outputs": [
    {
     "name": "stdout",
     "output_type": "stream",
     "text": [
      "Tensor(\"zeros_5:0\", shape=(2,), dtype=float32)\n"
     ]
    }
   ],
   "source": [
    "zeros = tf.zeros(squarish_squares.shape[1])\n",
    "print(zeros)"
   ]
  },
  {
   "cell_type": "markdown",
   "metadata": {},
   "source": [
    "#### 2.2 改变Tensor的shape\n",
    "tf.reshape方法可以帮助我们重新设置tensor的shape，但需要注意的是，总的元素数量需要保持不变："
   ]
  },
  {
   "cell_type": "code",
   "execution_count": 27,
   "metadata": {
    "collapsed": true
   },
   "outputs": [],
   "source": [
    "rank_three_tensor = tf.ones([3, 4, 5])\n",
    "matrix = tf.reshape(rank_three_tensor, [6, 10])  # Reshape existing content into\n",
    "                                                 # a 6x10 matrix"
   ]
  },
  {
   "cell_type": "code",
   "execution_count": 28,
   "metadata": {},
   "outputs": [
    {
     "data": {
      "text/plain": [
       "<tf.Tensor 'Reshape:0' shape=(6, 10) dtype=float32>"
      ]
     },
     "execution_count": 28,
     "metadata": {},
     "output_type": "execute_result"
    }
   ],
   "source": [
    "matrix"
   ]
  },
  {
   "cell_type": "markdown",
   "metadata": {},
   "source": [
    "以及，在计算比较麻烦时，我们可以省略为-1，tensorflow会自行完成计算，如下所示"
   ]
  },
  {
   "cell_type": "code",
   "execution_count": 29,
   "metadata": {
    "collapsed": true
   },
   "outputs": [],
   "source": [
    "matrixB = tf.reshape(matrix, [3, -1])  #  Reshape existing content into a 3x20\n",
    "                                       # matrix. -1 tells reshape to calculate\n",
    "                                       # the size of this dimension.\n",
    "matrixAlt = tf.reshape(matrixB, [4, 3, -1])  # Reshape existing content into a\n",
    "                                             #4x3x5 tensor"
   ]
  },
  {
   "cell_type": "code",
   "execution_count": 30,
   "metadata": {},
   "outputs": [
    {
     "data": {
      "text/plain": [
       "<tf.Tensor 'Reshape_1:0' shape=(3, 20) dtype=float32>"
      ]
     },
     "execution_count": 30,
     "metadata": {},
     "output_type": "execute_result"
    }
   ],
   "source": [
    "matrixB"
   ]
  },
  {
   "cell_type": "code",
   "execution_count": 31,
   "metadata": {},
   "outputs": [
    {
     "data": {
      "text/plain": [
       "<tf.Tensor 'Reshape_2:0' shape=(4, 3, 5) dtype=float32>"
      ]
     },
     "execution_count": 31,
     "metadata": {},
     "output_type": "execute_result"
    }
   ],
   "source": [
    "matrixAlt"
   ]
  },
  {
   "cell_type": "markdown",
   "metadata": {},
   "source": [
    "但元素数量无法整除时，会出现错误"
   ]
  },
  {
   "cell_type": "code",
   "execution_count": null,
   "metadata": {},
   "outputs": [],
   "source": [
    "# Note that the number of elements of the reshaped Tensors has to match the\n",
    "# original number of elements. Therefore, the following example generates an\n",
    "# error because no possible value for the last dimension will match the number\n",
    "# of elements.\n",
    "yet_another = tf.reshape(matrixAlt, [13, 2, -1])  # ERROR!"
   ]
  },
  {
   "cell_type": "markdown",
   "metadata": {},
   "source": [
    "### 3.数据类型\n",
    "除了维度之外，Tensors还具有数据类型（查看<a href=\"\">Datatype文档</a>了解全部数据类型）每个tensor只可以有一种数据类型，但如果，我们想转化tensor的数据类型，例如将整型转化为浮点型，可以调用tf.cast"
   ]
  },
  {
   "cell_type": "code",
   "execution_count": 35,
   "metadata": {},
   "outputs": [
    {
     "name": "stdout",
     "output_type": "stream",
     "text": [
      "Tensor(\"Cast_1:0\", shape=(3,), dtype=float32)\n"
     ]
    }
   ],
   "source": [
    "# Cast a constant integer tensor into floating point.\n",
    "float_tensor = tf.cast(tf.constant([1, 2, 3]), dtype=tf.float32)\n",
    "print(float_tensor)"
   ]
  },
  {
   "cell_type": "markdown",
   "metadata": {},
   "source": [
    "每个tensor的dtype特性允许我们查看当前tensor的数据类型"
   ]
  },
  {
   "cell_type": "code",
   "execution_count": 36,
   "metadata": {},
   "outputs": [
    {
     "data": {
      "text/plain": [
       "tf.float32"
      ]
     },
     "execution_count": 36,
     "metadata": {},
     "output_type": "execute_result"
    }
   ],
   "source": [
    "float_tensor.dtype"
   ]
  },
  {
   "cell_type": "markdown",
   "metadata": {},
   "source": [
    "此外，如果你在创建tensor时没有指定数据类型，tensorflow将自动指定一种可以表达当前数据的数据类型。"
   ]
  },
  {
   "cell_type": "markdown",
   "metadata": {},
   "source": [
    "### 4.Evaluating Tensors\n",
    "（其实这个evaluate一直不知道怎么翻译比较好 --\n",
    "\n",
    "一旦计算图已经被构建完成，你可以运行计算图并产生特定的tensor，然后获取分配给它的值。\n",
    "\n",
    "最简单的评估tensor的方法就是使用Tensor.eval方法，如下👇"
   ]
  },
  {
   "cell_type": "code",
   "execution_count": 47,
   "metadata": {},
   "outputs": [
    {
     "name": "stdout",
     "output_type": "stream",
     "text": [
      "[1 4 9]\n"
     ]
    }
   ],
   "source": [
    "constant = tf.constant([1, 2, 3])\n",
    "tensor = constant * constant\n",
    "with tf.Session() as sess:\n",
    "    sess.run(tensor)\n",
    "    print (tensor.eval())"
   ]
  },
  {
   "cell_type": "markdown",
   "metadata": {},
   "source": [
    "#### Note: tf.eval方法仅能在Session开启状态下使用"
   ]
  },
  {
   "cell_type": "markdown",
   "metadata": {},
   "source": [
    "但注意，当tensor依赖动态的信息时，无法估测tensor的值，例如：依赖placeholder的tensor"
   ]
  },
  {
   "cell_type": "code",
   "execution_count": 52,
   "metadata": {},
   "outputs": [
    {
     "name": "stdout",
     "output_type": "stream",
     "text": [
      "3.0\n"
     ]
    }
   ],
   "source": [
    "p = tf.placeholder(tf.float32)\n",
    "t = p + 1.0\n",
    "with tf.Session() as sess:\n",
    "    #print(t.eval())  # This will fail, since the placeholder did not get a value.\n",
    "    print(t.eval(feed_dict={p:2.0}) ) # This will succeed because we're feeding a value\n",
    "                           # to the placeholder."
   ]
  },
  {
   "cell_type": "markdown",
   "metadata": {},
   "source": [
    "### 5. Printing Tensors\n",
    "考虑到debug需要。"
   ]
  },
  {
   "cell_type": "code",
   "execution_count": 55,
   "metadata": {},
   "outputs": [
    {
     "data": {
      "text/plain": [
       "<tf.Tensor 'Print_3:0' shape=<unknown> dtype=float32>"
      ]
     },
     "execution_count": 55,
     "metadata": {},
     "output_type": "execute_result"
    }
   ],
   "source": [
    "tf.Print(t,[t])"
   ]
  },
  {
   "cell_type": "code",
   "execution_count": 56,
   "metadata": {},
   "outputs": [
    {
     "data": {
      "text/plain": [
       "<tf.Tensor 'Print_4:0' shape=(3,) dtype=int32>"
      ]
     },
     "execution_count": 56,
     "metadata": {},
     "output_type": "execute_result"
    }
   ],
   "source": [
    "tf.Print(tensor,[tensor])"
   ]
  },
  {
   "cell_type": "code",
   "execution_count": 57,
   "metadata": {
    "collapsed": true
   },
   "outputs": [],
   "source": [
    "m = tf.Print(tensor,[tensor]) + 1"
   ]
  },
  {
   "cell_type": "code",
   "execution_count": 58,
   "metadata": {},
   "outputs": [
    {
     "data": {
      "text/plain": [
       "<tf.Tensor 'add_5:0' shape=(3,) dtype=int32>"
      ]
     },
     "execution_count": 58,
     "metadata": {},
     "output_type": "execute_result"
    }
   ],
   "source": [
    "m"
   ]
  },
  {
   "cell_type": "markdown",
   "metadata": {},
   "source": [
    "注意，当你评估m的大小时，因为m依赖于tensor，所以评估tensor带来的副作用就是打印它的原本输入。"
   ]
  },
  {
   "cell_type": "markdown",
   "metadata": {},
   "source": [
    "### 翻译的非常匆忙，见谅 - -"
   ]
  },
  {
   "cell_type": "code",
   "execution_count": null,
   "metadata": {
    "collapsed": true
   },
   "outputs": [],
   "source": []
  }
 ],
 "metadata": {
  "kernelspec": {
   "display_name": "Python 3",
   "language": "python",
   "name": "python3"
  },
  "language_info": {
   "codemirror_mode": {
    "name": "ipython",
    "version": 3
   },
   "file_extension": ".py",
   "mimetype": "text/x-python",
   "name": "python",
   "nbconvert_exporter": "python",
   "pygments_lexer": "ipython3",
   "version": "3.6.1"
  }
 },
 "nbformat": 4,
 "nbformat_minor": 2
}
